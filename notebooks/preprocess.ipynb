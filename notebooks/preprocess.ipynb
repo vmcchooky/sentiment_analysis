{
 "cells": [
  {
   "cell_type": "markdown",
   "metadata": {},
   "source": []
  },
  {
   "cell_type": "code",
   "execution_count": 1,
   "metadata": {},
   "outputs": [
    {
     "name": "stdout",
     "output_type": "stream",
     "text": [
      "You are working with 3 core(s).\n"
     ]
    },
    {
     "data": {
      "text/html": [
       "\n",
       "            <div>\n",
       "                <p><b>SparkSession - in-memory</b></p>\n",
       "                \n",
       "        <div>\n",
       "            <p><b>SparkContext</b></p>\n",
       "\n",
       "            <p><a href=\"http://Chooky-2004:4041\">Spark UI</a></p>\n",
       "\n",
       "            <dl>\n",
       "              <dt>Version</dt>\n",
       "                <dd><code>v3.5.3</code></dd>\n",
       "              <dt>Master</dt>\n",
       "                <dd><code>local[*]</code></dd>\n",
       "              <dt>AppName</dt>\n",
       "                <dd><code>Pre Process</code></dd>\n",
       "            </dl>\n",
       "        </div>\n",
       "        \n",
       "            </div>\n",
       "        "
      ],
      "text/plain": [
       "<pyspark.sql.session.SparkSession at 0x1e07f774dc0>"
      ]
     },
     "execution_count": 1,
     "metadata": {},
     "output_type": "execute_result"
    }
   ],
   "source": [
    "from pyspark.sql import SparkSession\n",
    "\n",
    "# Khởi tạo SparkSession\n",
    "spark = SparkSession.builder.appName(\"Pre Process\").getOrCreate()\n",
    "\n",
    "# Kiểm tra số lượng cores\n",
    "cores = spark.sparkContext.getConf().get(\"spark.executor.instances\", \"3\")\n",
    "print(f\"You are working with {cores} core(s).\")\n",
    "\n",
    "# Kiểm tra SparkSession\n",
    "spark"
   ]
  },
  {
   "cell_type": "code",
   "execution_count": 2,
   "metadata": {},
   "outputs": [],
   "source": [
    "# Load dữ liệu\n",
    "path = \"C:/Users/vmcch/BIGDATA/sentiment_analysis_project/\"\n",
    "# spark.conf.set(\"spark.sql.execution.arrow.pyspark.enabled\", \"false\")\n",
    "df = spark.read.csv(path + \"data/eda\", header=True, inferSchema=True)\n"
   ]
  },
  {
   "cell_type": "code",
   "execution_count": 3,
   "metadata": {},
   "outputs": [
    {
     "data": {
      "text/html": [
       "<div>\n",
       "<style scoped>\n",
       "    .dataframe tbody tr th:only-of-type {\n",
       "        vertical-align: middle;\n",
       "    }\n",
       "\n",
       "    .dataframe tbody tr th {\n",
       "        vertical-align: top;\n",
       "    }\n",
       "\n",
       "    .dataframe thead th {\n",
       "        text-align: right;\n",
       "    }\n",
       "</style>\n",
       "<table border=\"1\" class=\"dataframe\">\n",
       "  <thead>\n",
       "    <tr style=\"text-align: right;\">\n",
       "      <th></th>\n",
       "      <th>text</th>\n",
       "      <th>label</th>\n",
       "    </tr>\n",
       "  </thead>\n",
       "  <tbody>\n",
       "    <tr>\n",
       "      <th>0</th>\n",
       "      <td>i looked at his sleeping face i suddenly felt ...</td>\n",
       "      <td>1</td>\n",
       "    </tr>\n",
       "    <tr>\n",
       "      <th>1</th>\n",
       "      <td>i feel like im starting to settle in here and ...</td>\n",
       "      <td>1</td>\n",
       "    </tr>\n",
       "    <tr>\n",
       "      <th>2</th>\n",
       "      <td>i chose to trust that these feelings and belie...</td>\n",
       "      <td>1</td>\n",
       "    </tr>\n",
       "    <tr>\n",
       "      <th>3</th>\n",
       "      <td>i hope that if they are ever feeling anything ...</td>\n",
       "      <td>1</td>\n",
       "    </tr>\n",
       "    <tr>\n",
       "      <th>4</th>\n",
       "      <td>i wake up really refreshed and feel like i hav...</td>\n",
       "      <td>0</td>\n",
       "    </tr>\n",
       "    <tr>\n",
       "      <th>5</th>\n",
       "      <td>i dont hear from you i feel like this insert g...</td>\n",
       "      <td>0</td>\n",
       "    </tr>\n",
       "    <tr>\n",
       "      <th>6</th>\n",
       "      <td>i suppose that everyone feels that way when th...</td>\n",
       "      <td>1</td>\n",
       "    </tr>\n",
       "    <tr>\n",
       "      <th>7</th>\n",
       "      <td>i feel like such a whiney ass</td>\n",
       "      <td>0</td>\n",
       "    </tr>\n",
       "    <tr>\n",
       "      <th>8</th>\n",
       "      <td>my parents and brother came up over the weeken...</td>\n",
       "      <td>1</td>\n",
       "    </tr>\n",
       "    <tr>\n",
       "      <th>9</th>\n",
       "      <td>i am not a strict journalist and only capturin...</td>\n",
       "      <td>1</td>\n",
       "    </tr>\n",
       "  </tbody>\n",
       "</table>\n",
       "</div>"
      ],
      "text/plain": [
       "                                                text  label\n",
       "0  i looked at his sleeping face i suddenly felt ...      1\n",
       "1  i feel like im starting to settle in here and ...      1\n",
       "2  i chose to trust that these feelings and belie...      1\n",
       "3  i hope that if they are ever feeling anything ...      1\n",
       "4  i wake up really refreshed and feel like i hav...      0\n",
       "5  i dont hear from you i feel like this insert g...      0\n",
       "6  i suppose that everyone feels that way when th...      1\n",
       "7                      i feel like such a whiney ass      0\n",
       "8  my parents and brother came up over the weeken...      1\n",
       "9  i am not a strict journalist and only capturin...      1"
      ]
     },
     "execution_count": 3,
     "metadata": {},
     "output_type": "execute_result"
    }
   ],
   "source": [
    "# Hiển thị dữ liệu 10 dòng đầu\n",
    "df.limit(10).toPandas()"
   ]
  },
  {
   "cell_type": "code",
   "execution_count": 4,
   "metadata": {},
   "outputs": [
    {
     "name": "stderr",
     "output_type": "stream",
     "text": [
      "[nltk_data] Downloading package stopwords to\n",
      "[nltk_data]     C:\\Users\\vmcch\\AppData\\Roaming\\nltk_data...\n",
      "[nltk_data]   Package stopwords is already up-to-date!\n"
     ]
    }
   ],
   "source": [
    "from pyspark.sql.functions import udf\n",
    "from pyspark.sql.types import StringType\n",
    "import re\n",
    "from nltk.corpus import stopwords\n",
    "import nltk\n",
    "\n",
    "# Tải stopwords\n",
    "nltk.download('stopwords')\n",
    "stop_words = set(stopwords.words('english'))\n",
    "\n",
    "# Định nghĩa hàm tiền xử lý\n",
    "def preprocess_text(text):\n",
    "    # Loại bỏ các ký tự không phải chữ cái và số\n",
    "    text = re.sub(r\"[^a-zA-Z0-9\\s]\", \"\", text)\n",
    "    # Chuyển thành chữ thường\n",
    "    text = text.lower()\n",
    "    # Loại bỏ stopwords\n",
    "    text = \" \".join([word for word in text.split() if word not in stop_words])\n",
    "    return text\n",
    "\n",
    "# Đăng ký hàm với PySpark\n",
    "preprocess_text_udf = udf(preprocess_text, StringType())"
   ]
  },
  {
   "cell_type": "code",
   "execution_count": 5,
   "metadata": {},
   "outputs": [
    {
     "name": "stdout",
     "output_type": "stream",
     "text": [
      "+-----------------------------------------------------------------------------------------------------------------------------------+\n",
      "|clean_text                                                                                                                         |\n",
      "+-----------------------------------------------------------------------------------------------------------------------------------+\n",
      "|looked sleeping face suddenly felt stress leave body small stress deadline stress life feeling replaced sweet peace                |\n",
      "|feel like im starting settle im productive                                                                                         |\n",
      "|chose trust feelings beliefs resolved deep level cheer larger part ready eager change                                              |\n",
      "|hope ever feeling anything less special remember sharing one story makes really big eyes                                           |\n",
      "|wake really refreshed feel like energy time wake feeling groggy disorientated                                                      |\n",
      "|dont hear feel like insert gloomy picture get email feel like insert happy picture                                                 |\n",
      "|suppose everyone feels way convinced something wrong                                                                               |\n",
      "|feel like whiney ass                                                                                                               |\n",
      "|parents brother came weekend close family first year away home brought one jackolantern new design old joke great new design always|\n",
      "|strict journalist capturing capturing feeling well                                                                                 |\n",
      "+-----------------------------------------------------------------------------------------------------------------------------------+\n",
      "only showing top 10 rows\n",
      "\n"
     ]
    }
   ],
   "source": [
    "# Áp dụng hàm tiền xử lý cho cột text\n",
    "df = df.withColumn(\"clean_text\", preprocess_text_udf(df.text))\n",
    "\n",
    "# Hiển thị dữ liệu đã tiền xử lý\n",
    "df.select(\"clean_text\").show(10, truncate = False)"
   ]
  },
  {
   "cell_type": "code",
   "execution_count": 16,
   "metadata": {},
   "outputs": [
    {
     "name": "stdout",
     "output_type": "stream",
     "text": [
      "Train size: 209618, Validation size: 26024, Test size: 26126\n"
     ]
    }
   ],
   "source": [
    "# Chia dữ liệu thành 3 phần: train, test và validation với tỉ lệ 8:1:1\n",
    "train_df, test_df, val_df = df.randomSplit([0.8, 0.1, 0.1], seed=42)\n",
    "\n",
    "# Hiển thị số lượng mẫu trong mỗi phần\n",
    "print(f\"Train size: {train_df.count()}, Validation size: {val_df.count()}, Test size: {test_df.count()}\")"
   ]
  },
  {
   "cell_type": "code",
   "execution_count": 17,
   "metadata": {},
   "outputs": [
    {
     "name": "stdout",
     "output_type": "stream",
     "text": [
      "+-----------------------------------------------------------------------------------------------------------------------------------------------------------------------------------------------------------------------------+-----+----------------------------------------------------------------------------------------------------------------------------------+--------------------------------------------------------------------------------------------------------------------------------------------------------+\n",
      "|text                                                                                                                                                                                                                         |label|clean_text                                                                                                                        |words                                                                                                                                                   |\n",
      "+-----------------------------------------------------------------------------------------------------------------------------------------------------------------------------------------------------------------------------+-----+----------------------------------------------------------------------------------------------------------------------------------+--------------------------------------------------------------------------------------------------------------------------------------------------------+\n",
      "|a and i were walking along the new asia stairway to the chung chi college for our lecture and i saw him with her he put one arm around her shoulder and laugher brightly and joyfully i did not dare and did not want to look|0    |walking along new asia stairway chung chi college lecture saw put one arm around shoulder laugher brightly joyfully dare want look|[walking, along, new, asia, stairway, chung, chi, college, lecture, saw, put, one, arm, around, shoulder, laugher, brightly, joyfully, dare, want, look]|\n",
      "|a close friend died                                                                                                                                                                                                          |0    |close friend died                                                                                                                 |[close, friend, died]                                                                                                                                   |\n",
      "|a couple of years ago during the summer holiday                                                                                                                                                                              |1    |couple years ago summer holiday                                                                                                   |[couple, years, ago, summer, holiday]                                                                                                                   |\n",
      "|a dear friend was removed from the division whre i work                                                                                                                                                                      |0    |dear friend removed division whre work                                                                                            |[dear, friend, removed, division, whre, work]                                                                                                           |\n",
      "|a few days ago                                                                                                                                                                                                               |1    |days ago                                                                                                                          |[days, ago]                                                                                                                                             |\n",
      "+-----------------------------------------------------------------------------------------------------------------------------------------------------------------------------------------------------------------------------+-----+----------------------------------------------------------------------------------------------------------------------------------+--------------------------------------------------------------------------------------------------------------------------------------------------------+\n",
      "only showing top 5 rows\n",
      "\n"
     ]
    }
   ],
   "source": [
    "from pyspark.ml.feature import Tokenizer\n",
    "\n",
    "# Chuyển văn bản thành danh sách từ\n",
    "tokenizer = Tokenizer(inputCol=\"clean_text\", outputCol=\"words\")\n",
    "\n",
    "# Áp dụng Tokenizer vào DataFrame\n",
    "train_df = tokenizer.transform(train_df)\n",
    "val_df = tokenizer.transform(val_df)\n",
    "test_df = tokenizer.transform(test_df)\n",
    "\n",
    "train_df.show(5, truncate = False)"
   ]
  },
  {
   "cell_type": "code",
   "execution_count": 18,
   "metadata": {},
   "outputs": [
    {
     "name": "stdout",
     "output_type": "stream",
     "text": [
      "+-----------------------------------------------------------------------------------------------------------------------------------------------------------------------------------------------------------------------------+-----+----------------------------------------------------------------------------------------------------------------------------------+--------------------------------------------------------------------------------------------------------------------------------------------------------+---------------------------------------------------------------------------------------------------------------------------------------+\n",
      "|text                                                                                                                                                                                                                         |label|clean_text                                                                                                                        |words                                                                                                                                                   |embedding                                                                                                                              |\n",
      "+-----------------------------------------------------------------------------------------------------------------------------------------------------------------------------------------------------------------------------+-----+----------------------------------------------------------------------------------------------------------------------------------+--------------------------------------------------------------------------------------------------------------------------------------------------------+---------------------------------------------------------------------------------------------------------------------------------------+\n",
      "|a and i were walking along the new asia stairway to the chung chi college for our lecture and i saw him with her he put one arm around her shoulder and laugher brightly and joyfully i did not dare and did not want to look|0    |walking along new asia stairway chung chi college lecture saw put one arm around shoulder laugher brightly joyfully dare want look|[walking, along, new, asia, stairway, chung, chi, college, lecture, saw, put, one, arm, around, shoulder, laugher, brightly, joyfully, dare, want, look]|(100,[12,13,15,25,36,39,40,56,57,71,74,75,77,83,84,85,92,97],[1.0,1.0,2.0,1.0,1.0,1.0,1.0,1.0,1.0,1.0,1.0,2.0,1.0,1.0,2.0,1.0,1.0,1.0])|\n",
      "|a close friend died                                                                                                                                                                                                          |0    |close friend died                                                                                                                 |[close, friend, died]                                                                                                                                   |(100,[48,88,97],[1.0,1.0,1.0])                                                                                                         |\n",
      "|a couple of years ago during the summer holiday                                                                                                                                                                              |1    |couple years ago summer holiday                                                                                                   |[couple, years, ago, summer, holiday]                                                                                                                   |(100,[2,3,42,81,96],[1.0,1.0,1.0,1.0,1.0])                                                                                             |\n",
      "|a dear friend was removed from the division whre i work                                                                                                                                                                      |0    |dear friend removed division whre work                                                                                            |[dear, friend, removed, division, whre, work]                                                                                                           |(100,[14,26,27,57,61,88],[1.0,1.0,1.0,1.0,1.0,1.0])                                                                                    |\n",
      "|a few days ago                                                                                                                                                                                                               |1    |days ago                                                                                                                          |[days, ago]                                                                                                                                             |(100,[58,96],[1.0,1.0])                                                                                                                |\n",
      "+-----------------------------------------------------------------------------------------------------------------------------------------------------------------------------------------------------------------------------+-----+----------------------------------------------------------------------------------------------------------------------------------+--------------------------------------------------------------------------------------------------------------------------------------------------------+---------------------------------------------------------------------------------------------------------------------------------------+\n",
      "only showing top 5 rows\n",
      "\n"
     ]
    }
   ],
   "source": [
    "from pyspark.sql.functions import col\n",
    "from pyspark.ml.feature import HashingTF\n",
    "\n",
    "# Áp dụng HashingTF để tạo embedding\n",
    "max_features = 100  # Số chiều của vector embedding\n",
    "hashingTF = HashingTF(inputCol=\"words\", outputCol=\"raw_features\", numFeatures=max_features)\n",
    "\n",
    "# Áp dụng HashingTF vào DataFrame\n",
    "train_df = hashingTF.transform(train_df)\n",
    "val_df = hashingTF.transform(val_df)\n",
    "test_df = hashingTF.transform(test_df)\n",
    "\n",
    "# Chuyển đổi tên cột\n",
    "train_df = train_df.withColumnRenamed(\"raw_features\", \"embedding\")\n",
    "val_df = val_df.withColumnRenamed(\"raw_features\", \"embedding\")\n",
    "test_df = test_df.withColumnRenamed(\"raw_features\", \"embedding\")\n",
    "\n",
    "# Hiển thị kết quả\n",
    "train_df.show(5, truncate=False)\n"
   ]
  },
  {
   "cell_type": "code",
   "execution_count": 19,
   "metadata": {},
   "outputs": [],
   "source": [
    "# Chọn chỉ cột \"text\", \"embedding\" và \"label\" trước khi ghi\n",
    "train_df.select(\"text\", \"label\", \"embedding\").write.mode(\"overwrite\").parquet(path + \"data/processed/train/hashingTF.parquet\")\n",
    "test_df.select(\"text\", \"label\", \"embedding\").write.mode(\"overwrite\").parquet(path + \"data/processed/test/hashingTF.parquet\")\n",
    "val_df.select(\"text\", \"label\", \"embedding\").write.mode(\"overwrite\").parquet(path + \"data/processed/validation/hashingTF.parquet\")"
   ]
  },
  {
   "cell_type": "code",
   "execution_count": 20,
   "metadata": {},
   "outputs": [
    {
     "name": "stdout",
     "output_type": "stream",
     "text": [
      "root\n",
      " |-- text: string (nullable = true)\n",
      " |-- label: integer (nullable = true)\n",
      " |-- clean_text: string (nullable = true)\n",
      " |-- words: array (nullable = true)\n",
      " |    |-- element: string (containsNull = true)\n",
      "\n"
     ]
    }
   ],
   "source": [
    "train_df = train_df.drop(\"embedding\").drop(\"scaled_embedding\").drop(\"raw_features\")\n",
    "val_df = val_df.drop(\"embedding\").drop(\"scaled_embedding\").drop(\"raw_features\")\n",
    "test_df = test_df.drop(\"embedding\").drop(\"scaled_embedding\").drop(\"raw_features\")\n",
    "\n",
    "train_df.printSchema()"
   ]
  },
  {
   "cell_type": "code",
   "execution_count": 21,
   "metadata": {},
   "outputs": [
    {
     "name": "stdout",
     "output_type": "stream",
     "text": [
      "+-----------------------------------------------------------------------------------------------------------------------------------------------------------------------------------------------------------------------------+-----+----------------------------------------------------------------------------------------------------------------------------------+--------------------------------------------------------------------------------------------------------------------------------------------------------+---------------------------------------------------------------------------------------------------------------------------------------+-----------------------------------------------------------------------------------------------------------------------------------------------------------------------------------------------------------------------------------------------------------------------------------------------------------------------------------------------------------------------------------------------------------+\n",
      "|text                                                                                                                                                                                                                         |label|clean_text                                                                                                                        |words                                                                                                                                                   |raw_features                                                                                                                           |embedding                                                                                                                                                                                                                                                                                                                                                                                                  |\n",
      "+-----------------------------------------------------------------------------------------------------------------------------------------------------------------------------------------------------------------------------+-----+----------------------------------------------------------------------------------------------------------------------------------+--------------------------------------------------------------------------------------------------------------------------------------------------------+---------------------------------------------------------------------------------------------------------------------------------------+-----------------------------------------------------------------------------------------------------------------------------------------------------------------------------------------------------------------------------------------------------------------------------------------------------------------------------------------------------------------------------------------------------------+\n",
      "|a and i were walking along the new asia stairway to the chung chi college for our lecture and i saw him with her he put one arm around her shoulder and laugher brightly and joyfully i did not dare and did not want to look|0    |walking along new asia stairway chung chi college lecture saw put one arm around shoulder laugher brightly joyfully dare want look|[walking, along, new, asia, stairway, chung, chi, college, lecture, saw, put, one, arm, around, shoulder, laugher, brightly, joyfully, dare, want, look]|(100,[12,13,15,25,36,39,40,56,57,71,74,75,77,83,84,85,92,97],[1.0,1.0,2.0,1.0,1.0,1.0,1.0,1.0,1.0,1.0,1.0,2.0,1.0,1.0,2.0,1.0,1.0,1.0])|(100,[12,13,15,25,36,39,40,56,57,71,74,75,77,83,84,85,92,97],[1.7804742257562967,1.0700431492650553,0.7106842405816365,2.447447824458624,3.0373210319231063,3.042706504199444,2.1896111958224362,2.7262183399059934,1.96766995206004,2.867745301811782,3.2472736699407183,5.890433765844374,2.3858603033658303,2.9406012812622904,6.249569230470102,2.6257081602776067,2.5674044365025,2.4716704620344703])|\n",
      "|a close friend died                                                                                                                                                                                                          |0    |close friend died                                                                                                                 |[close, friend, died]                                                                                                                                   |(100,[48,88,97],[1.0,1.0,1.0])                                                                                                         |(100,[48,88,97],[2.3725720979485714,2.6274891046486015,2.4716704620344703])                                                                                                                                                                                                                                                                                                                                |\n",
      "|a couple of years ago during the summer holiday                                                                                                                                                                              |1    |couple years ago summer holiday                                                                                                   |[couple, years, ago, summer, holiday]                                                                                                                   |(100,[2,3,42,81,96],[1.0,1.0,1.0,1.0,1.0])                                                                                             |(100,[2,3,42,81,96],[2.940149915874352,2.6734905287664006,2.726874388331317,2.3187876649727452,2.5742040010799756])                                                                                                                                                                                                                                                                                        |\n",
      "|a dear friend was removed from the division whre i work                                                                                                                                                                      |0    |dear friend removed division whre work                                                                                            |[dear, friend, removed, division, whre, work]                                                                                                           |(100,[14,26,27,57,61,88],[1.0,1.0,1.0,1.0,1.0,1.0])                                                                                    |(100,[14,26,27,57,61,88],[2.930271074869656,1.9016415512759477,2.532761267860761,1.96766995206004,2.6950823957811294,2.6274891046486015])                                                                                                                                                                                                                                                                  |\n",
      "|a few days ago                                                                                                                                                                                                               |1    |days ago                                                                                                                          |[days, ago]                                                                                                                                             |(100,[58,96],[1.0,1.0])                                                                                                                |(100,[58,96],[2.6855216902665116,2.5742040010799756])                                                                                                                                                                                                                                                                                                                                                      |\n",
      "+-----------------------------------------------------------------------------------------------------------------------------------------------------------------------------------------------------------------------------+-----+----------------------------------------------------------------------------------------------------------------------------------+--------------------------------------------------------------------------------------------------------------------------------------------------------+---------------------------------------------------------------------------------------------------------------------------------------+-----------------------------------------------------------------------------------------------------------------------------------------------------------------------------------------------------------------------------------------------------------------------------------------------------------------------------------------------------------------------------------------------------------+\n",
      "only showing top 5 rows\n",
      "\n"
     ]
    }
   ],
   "source": [
    "from pyspark.sql.functions import col\n",
    "from pyspark.ml.feature import HashingTF, IDF\n",
    "\n",
    "# Số chiều của vector embedding\n",
    "max_features = 100  \n",
    "\n",
    "# Áp dụng HashingTF\n",
    "hashingTF = HashingTF(inputCol=\"words\", outputCol=\"raw_features\", numFeatures=max_features)\n",
    "train_df = hashingTF.transform(train_df)\n",
    "val_df = hashingTF.transform(val_df)\n",
    "test_df = hashingTF.transform(test_df)\n",
    "\n",
    "# Áp dụng IDF để tính trọng số\n",
    "idf = IDF(inputCol=\"raw_features\", outputCol=\"idf_features\")\n",
    "idf_model = idf.fit(train_df)\n",
    "\n",
    "train_df = idf_model.transform(train_df)\n",
    "val_df = idf_model.transform(val_df)\n",
    "test_df = idf_model.transform(test_df)\n",
    "\n",
    "# Đổi tên cột kết quả\n",
    "train_df = train_df.withColumnRenamed(\"idf_features\", \"embedding\")\n",
    "val_df = val_df.withColumnRenamed(\"idf_features\", \"embedding\")\n",
    "test_df = test_df.withColumnRenamed(\"idf_features\", \"embedding\")\n",
    "\n",
    "# Hiển thị kết quả\n",
    "train_df.show(5, truncate=False)\n"
   ]
  },
  {
   "cell_type": "code",
   "execution_count": 22,
   "metadata": {},
   "outputs": [],
   "source": [
    "# Chọn chỉ cột \"text\", \"embedding\" và \"label\" trước khi ghi\n",
    "train_df.select(\"text\", \"label\", \"embedding\").write.mode(\"overwrite\").parquet(path + \"data/processed/train/hashingTFIDF.parquet\")\n",
    "test_df.select(\"text\", \"label\", \"embedding\").write.mode(\"overwrite\").parquet(path + \"data/processed/test/hashingTFIDF.parquet\")\n",
    "val_df.select(\"text\", \"label\", \"embedding\").write.mode(\"overwrite\").parquet(path + \"data/processed/validation/hashingTFIDF.parquet\")"
   ]
  },
  {
   "cell_type": "code",
   "execution_count": 23,
   "metadata": {},
   "outputs": [
    {
     "name": "stdout",
     "output_type": "stream",
     "text": [
      "root\n",
      " |-- text: string (nullable = true)\n",
      " |-- label: integer (nullable = true)\n",
      " |-- clean_text: string (nullable = true)\n",
      "\n"
     ]
    }
   ],
   "source": [
    "train_df = train_df.drop(\"embedding\").drop(\"words\").drop(\"raw_features\")\n",
    "val_df = val_df.drop(\"embedding\").drop(\"words\").drop(\"raw_features\")\n",
    "test_df = test_df.drop(\"embedding\").drop(\"words\").drop(\"raw_features\")\n",
    "\n",
    "train_df.printSchema()"
   ]
  },
  {
   "cell_type": "code",
   "execution_count": 24,
   "metadata": {},
   "outputs": [
    {
     "name": "stdout",
     "output_type": "stream",
     "text": [
      "+-----------------------------------------------------------------------------------------------------------------------------------------------------------------------------------------------------------------------------+-----+----------------------------------------------------------------------------------------------------------------------------------+\n",
      "|text                                                                                                                                                                                                                         |label|clean_text                                                                                                                        |\n",
      "+-----------------------------------------------------------------------------------------------------------------------------------------------------------------------------------------------------------------------------+-----+----------------------------------------------------------------------------------------------------------------------------------+\n",
      "|a and i were walking along the new asia stairway to the chung chi college for our lecture and i saw him with her he put one arm around her shoulder and laugher brightly and joyfully i did not dare and did not want to look|0    |walking along new asia stairway chung chi college lecture saw put one arm around shoulder laugher brightly joyfully dare want look|\n",
      "|a close friend died                                                                                                                                                                                                          |0    |close friend died                                                                                                                 |\n",
      "|a couple of years ago during the summer holiday                                                                                                                                                                              |1    |couple years ago summer holiday                                                                                                   |\n",
      "|a dear friend was removed from the division whre i work                                                                                                                                                                      |0    |dear friend removed division whre work                                                                                            |\n",
      "|a few days ago                                                                                                                                                                                                               |1    |days ago                                                                                                                          |\n",
      "+-----------------------------------------------------------------------------------------------------------------------------------------------------------------------------------------------------------------------------+-----+----------------------------------------------------------------------------------------------------------------------------------+\n",
      "only showing top 5 rows\n",
      "\n"
     ]
    }
   ],
   "source": [
    "train_df.show(5, truncate = False)"
   ]
  },
  {
   "cell_type": "code",
   "execution_count": 25,
   "metadata": {},
   "outputs": [],
   "source": [
    "from pyspark.sql.functions import col, udf\n",
    "from gensim.models import Word2Vec\n",
    "from pyspark.ml.linalg import Vectors, VectorUDT\n",
    "import numpy as np\n",
    "\n",
    "# Chuẩn bị dữ liệu cho Word2Vec\n",
    "corpus = train_df.select(\"clean_text\").rdd.flatMap(lambda x: x).filter(lambda x: x is not None).collect()\n",
    "\n",
    "# Chuẩn bị dữ liệu cho Word2Vec: chia thành danh sách các từ\n",
    "sentences = [text.split() for text in corpus]"
   ]
  },
  {
   "cell_type": "code",
   "execution_count": 26,
   "metadata": {},
   "outputs": [
    {
     "name": "stdout",
     "output_type": "stream",
     "text": [
      "Đang huấn luyện Word2Vec model trên train_df...\n",
      "Huấn luyện model hoàn tất!\n",
      "root\n",
      " |-- text: string (nullable = true)\n",
      " |-- label: integer (nullable = true)\n",
      " |-- clean_text: string (nullable = true)\n",
      " |-- embedding: vector (nullable = true)\n",
      "\n",
      "+-----------------------------------------------------------------------------------------------------------------------------------------------------------------------------------------------------------------------------+-----+----------------------------------------------------------------------------------------------------------------------------------+----------------------------------------------------------------------------------------------------------------------------------------------------------------------------------------------------------------------------------------------------------------------------------------------------------------------------------------------------------------------------------------------------------------------------------------------------------------------------------------------------------------------------------------------------------------------------------------------------------------------------------------------------------------------------------------------------------------------------------------------------------------------------------------------------------------------------------------------------------------------------------------------------------------------------------------------------------------------------------------------------------------------------------------------------------------------------------------------------------------------------------------------------------------------------------------------------------------------------------------------------------------------------------------------------------------------------------------------------------------------------------------------------------------------------------------------------------------------------------------------------------------------------------------------------------------------------------------------------------------------------------------------------------------------------------------------------------------------------------------------------------------------------------------------------------------------------------------------------------------------------------------------------------------------------------------------------------------+\n",
      "|text                                                                                                                                                                                                                         |label|clean_text                                                                                                                        |embedding                                                                                                                                                                                                                                                                                                                                                                                                                                                                                                                                                                                                                                                                                                                                                                                                                                                                                                                                                                                                                                                                                                                                                                                                                                                                                                                                                                                                                                                                                                                                                                                                                                                                                                                                                                                                                                                                                                                                                       |\n",
      "+-----------------------------------------------------------------------------------------------------------------------------------------------------------------------------------------------------------------------------+-----+----------------------------------------------------------------------------------------------------------------------------------+----------------------------------------------------------------------------------------------------------------------------------------------------------------------------------------------------------------------------------------------------------------------------------------------------------------------------------------------------------------------------------------------------------------------------------------------------------------------------------------------------------------------------------------------------------------------------------------------------------------------------------------------------------------------------------------------------------------------------------------------------------------------------------------------------------------------------------------------------------------------------------------------------------------------------------------------------------------------------------------------------------------------------------------------------------------------------------------------------------------------------------------------------------------------------------------------------------------------------------------------------------------------------------------------------------------------------------------------------------------------------------------------------------------------------------------------------------------------------------------------------------------------------------------------------------------------------------------------------------------------------------------------------------------------------------------------------------------------------------------------------------------------------------------------------------------------------------------------------------------------------------------------------------------------------------------------------------------+\n",
      "|a and i were walking along the new asia stairway to the chung chi college for our lecture and i saw him with her he put one arm around her shoulder and laugher brightly and joyfully i did not dare and did not want to look|0    |walking along new asia stairway chung chi college lecture saw put one arm around shoulder laugher brightly joyfully dare want look|[0.3324851095676422,0.5275517702102661,0.5670740604400635,0.3369635343551636,0.6169865727424622,0.2349056452512741,0.46982428431510925,0.8263199925422668,0.37461134791374207,0.33981484174728394,0.3633461594581604,0.1676371991634369,0.502316951751709,0.5499759912490845,0.7873070240020752,0.4333731532096863,0.4158301055431366,0.1316203773021698,0.5392972826957703,0.34642910957336426,0.5636205673217773,0.5098845362663269,0.7076554894447327,0.0,0.6870172619819641,0.4247637391090393,0.567165195941925,0.3094683289527893,0.33833542466163635,0.5153680443763733,0.699146032333374,0.7392854690551758,0.565440833568573,0.5867486596107483,0.4042566418647766,0.597964882850647,0.137453094124794,0.36619237065315247,0.3375769853591919,0.2885189950466156,0.4221745431423187,0.41129422187805176,0.4802335500717163,0.4271904528141022,0.7139901518821716,0.3599183261394501,0.5110970139503479,0.6532769799232483,0.6925934553146362,0.5245624780654907,0.34244129061698914,0.37496086955070496,0.39205655455589294,0.5063719749450684,0.5267756581306458,0.5397557616233826,0.533484160900116,0.5048297643661499,0.5496755838394165,0.5431225299835205,0.8373669981956482,0.5501221418380737,0.21587519347667694,0.6949364542961121,0.2006724327802658,0.5274463295936584,0.4933730959892273,0.5707110166549683,0.39566653966903687,1.0,0.3268461227416992,0.36164548993110657,0.9162283539772034,0.31566739082336426,0.5468910336494446,0.6334298253059387,0.5551586151123047,0.3742893934249878,0.2341717630624771,0.6837470531463623,0.6468116641044617,0.36009085178375244,0.1397930383682251,0.6823936700820923,0.6474531888961792,0.4576941728591919,0.42696520686149597,0.8156269788742065,0.7875117063522339,0.4984356760978699,0.7775969505310059,0.39314520359039307,0.3052123785018921,0.5907515287399292,0.9076651334762573,0.6409391164779663,0.5770106911659241,0.29954278469085693,0.6914145946502686,0.2919197678565979]      |\n",
      "|a close friend died                                                                                                                                                                                                          |0    |close friend died                                                                                                                 |[0.30998164415359497,0.8524665236473083,0.4917926490306854,0.16160833835601807,0.6671808958053589,0.34954336285591125,0.47321948409080505,0.948576033115387,0.6984474658966064,0.6298568844795227,0.09908129274845123,0.5791824460029602,0.7465958595275879,0.37025681138038635,0.884367823600769,0.38025131821632385,0.666019856929779,0.5017895102500916,0.6829264760017395,0.4173617362976074,0.5630404949188232,0.7172120809555054,0.7710983753204346,0.32590317726135254,0.6544095873832703,0.4269292652606964,0.5765042304992676,0.4208383858203888,0.0,0.5023751854896545,0.5732187032699585,0.5457776784896851,0.49861940741539,0.9445924758911133,0.6756312847137451,0.8755016326904297,0.45748281478881836,0.4405724108219147,0.3066502511501312,0.2866441309452057,0.4540446400642395,0.5190306901931763,0.6142511963844299,0.4178979694843292,0.7040321230888367,0.5915335416793823,0.36629441380500793,0.9405370950698853,0.3692420423030853,0.721774697303772,0.535499632358551,0.4488256871700287,0.8991523385047913,0.7088986039161682,0.46282726526260376,0.8861656785011292,0.5964243412017822,0.6030295491218567,0.4440883696079254,0.30781930685043335,0.5714266300201416,0.5386929512023926,0.4660453200340271,0.5690466165542603,0.043914977461099625,0.7002324461936951,0.5672619342803955,0.4358433485031128,0.48812276124954224,0.8541846871376038,0.17491818964481354,0.47537150979042053,1.0,0.4958116114139557,0.6810665726661682,0.49277177453041077,0.6250676512718201,0.47538405656814575,0.24523021280765533,0.7195425629615784,0.8467105031013489,0.47375649213790894,0.35866889357566833,0.7245744466781616,0.4945003390312195,0.30456146597862244,0.3848305642604828,0.8210546374320984,0.6981876492500305,0.5361671447753906,0.3606029748916626,0.5903018116950989,0.7249444127082825,0.815813422203064,0.6631338596343994,0.7392780184745789,0.6295660138130188,0.5002534985542297,0.9520344734191895,0.043027594685554504]|\n",
      "|a couple of years ago during the summer holiday                                                                                                                                                                              |1    |couple years ago summer holiday                                                                                                   |[0.44442203640937805,0.5161223411560059,0.5515853762626648,0.600468635559082,0.4228900671005249,0.6198179721832275,0.6649052500724792,0.6104694604873657,0.535093367099762,0.5429854989051819,0.596764326095581,0.13945330679416656,0.32853731513023376,0.6501403450965881,0.5286661386489868,0.575774610042572,0.42938634753227234,0.0,0.46108609437942505,0.34970754384994507,0.4637799859046936,0.661250650882721,0.5412994623184204,0.4140032231807709,0.8232767581939697,0.7396280765533447,0.5158363580703735,0.33305612206459045,0.3153923749923706,0.14097531139850616,1.0,0.9170573353767395,0.2289249151945114,0.785150408744812,0.7012280821800232,0.8011068105697632,0.6634057760238647,0.14755819737911224,0.11844860017299652,0.47282716631889343,0.17412365972995758,0.6076877117156982,0.7549275159835815,0.6880017518997192,0.9258648753166199,0.6502095460891724,0.4600304663181305,0.6556289792060852,0.6948521733283997,0.7289320230484009,0.41245225071907043,0.3365318775177002,0.5839828848838806,0.5679085850715637,0.2874930799007416,0.5629270076751709,0.6289737820625305,0.7425169944763184,0.3285042345523834,0.6790758371353149,0.6019472479820251,0.6750994920730591,0.40887224674224854,0.7347916960716248,0.1176055520772934,0.3887960910797119,0.4081132113933563,0.6489608287811279,0.6560590863227844,0.8516327142715454,0.33956602215766907,0.6600630283355713,0.8806572556495667,0.7031688690185547,0.6033353209495544,0.7661340236663818,0.6337341666221619,0.18347406387329102,0.24932783842086792,0.5947884321212769,0.6314663887023926,0.3300934433937073,0.38762030005455017,0.43287160992622375,0.44949352741241455,0.2741994857788086,0.3061020076274872,0.8433108329772949,0.6752539277076721,0.673852264881134,0.8665152192115784,0.6841586232185364,0.6173061728477478,0.6918370723724365,0.7248704433441162,0.8566578030586243,0.7120607495307922,0.1182490885257721,0.5743021965026855,0.3007082939147949]    |\n",
      "|a dear friend was removed from the division whre i work                                                                                                                                                                      |0    |dear friend removed division whre work                                                                                            |[0.30226629972457886,0.8927389979362488,0.5868808031082153,0.4719065725803375,0.6297679543495178,0.5129778981208801,0.5230341553688049,1.0,0.642838180065155,0.5751570463180542,0.28896546363830566,0.4590398967266083,0.7822908163070679,0.6167144179344177,0.7308380603790283,0.3907974064350128,0.5810340642929077,0.389180451631546,0.8396161794662476,0.32823672890663147,0.7066567540168762,0.5651873350143433,0.8962165713310242,0.3716640770435333,0.6493170261383057,0.7079805135726929,0.6059170961380005,0.43457499146461487,0.16425304114818573,0.5250325798988342,0.712763249874115,0.8011603355407715,0.6245065331459045,0.909694492816925,0.5628316402435303,0.6996756792068481,0.5068020820617676,0.36068394780158997,0.22140879929065704,0.3722154200077057,0.5779059529304504,0.5162419676780701,0.5169879794120789,0.4754323661327362,0.662692129611969,0.5556562542915344,0.4258892238140106,0.6059844493865967,0.6006631851196289,0.7018091678619385,0.7667371034622192,0.48835089802742004,0.8312085866928101,0.7416003942489624,0.3864397406578064,0.866546630859375,0.7394567131996155,0.6375554800033569,0.32948753237724304,0.31884679198265076,0.7252807021141052,0.6902858018875122,0.4903753101825714,0.4861374795436859,0.0,0.7596136331558228,0.6202160716056824,0.5322450995445251,0.2537156641483307,0.9701306223869324,0.37253260612487793,0.4639432430267334,0.9037964940071106,0.40664908289909363,0.5837663412094116,0.6172468662261963,0.6048546433448792,0.6771575808525085,0.3877944350242615,0.7340577840805054,0.7704919576644897,0.38843023777008057,0.4296075403690338,0.7560849189758301,0.41806262731552124,0.38106226921081543,0.5857899785041809,0.8951130509376526,0.9872967004776001,0.5760613083839417,0.5738405585289001,0.5179726481437683,0.6421276926994324,0.8336153030395508,0.7778488993644714,0.7316259741783142,0.6764051914215088,0.4430951774120331,0.9065287709236145,0.3696932792663574]        |\n",
      "|a few days ago                                                                                                                                                                                                               |1    |days ago                                                                                                                          |[0.438175767660141,0.5179950594902039,0.5396535992622375,0.7009956240653992,0.411384642124176,0.6576838493347168,0.642044186592102,0.5208855271339417,0.5776697397232056,0.4524846076965332,0.5390931367874146,0.12573523819446564,0.3157849609851837,0.6021807193756104,0.5083567500114441,0.4916398227214813,0.503709077835083,0.05388275906443596,0.3624739944934845,0.34211769700050354,0.495680570602417,0.5832595825195312,0.514410674571991,0.43721821904182434,0.8218989968299866,0.766808271408081,0.4343407452106476,0.24972176551818848,0.3311968743801117,0.06909593939781189,0.9732909798622131,1.0,0.1366748958826065,0.5392842292785645,0.8006435632705688,0.8657602667808533,0.6734108924865723,0.15397126972675323,0.15099674463272095,0.446927934885025,0.053811006247997284,0.5703999996185303,0.6009648442268372,0.6665382385253906,0.9337669014930725,0.49179109930992126,0.4651913344860077,0.775418221950531,0.7749176025390625,0.6958305835723877,0.5882344245910645,0.2876034677028656,0.5443222522735596,0.5126820802688599,0.3099071681499481,0.5550534725189209,0.5685713291168213,0.6514210104942322,0.45034289360046387,0.6693731546401978,0.5091025829315186,0.6908263564109802,0.7042516469955444,0.7596035003662109,0.06297270208597183,0.43246546387672424,0.3639335036277771,0.7166816592216492,0.6795182228088379,0.7339717149734497,0.49415114521980286,0.6302997469902039,0.8961283564567566,0.7736567258834839,0.5977952480316162,0.8036609888076782,0.6121155619621277,0.0,0.3968825340270996,0.6843881011009216,0.6211482882499695,0.25761401653289795,0.48878344893455505,0.5776458382606506,0.40697017312049866,0.10711963474750519,0.25163835287094116,0.7430517077445984,0.7183944582939148,0.7363742589950562,0.9580507278442383,0.6228330135345459,0.5630331635475159,0.5235543847084045,0.5291808843612671,0.856970489025116,0.7956854104995728,0.018000101670622826,0.4764446020126343,0.22152738273143768]    |\n",
      "+-----------------------------------------------------------------------------------------------------------------------------------------------------------------------------------------------------------------------------+-----+----------------------------------------------------------------------------------------------------------------------------------+----------------------------------------------------------------------------------------------------------------------------------------------------------------------------------------------------------------------------------------------------------------------------------------------------------------------------------------------------------------------------------------------------------------------------------------------------------------------------------------------------------------------------------------------------------------------------------------------------------------------------------------------------------------------------------------------------------------------------------------------------------------------------------------------------------------------------------------------------------------------------------------------------------------------------------------------------------------------------------------------------------------------------------------------------------------------------------------------------------------------------------------------------------------------------------------------------------------------------------------------------------------------------------------------------------------------------------------------------------------------------------------------------------------------------------------------------------------------------------------------------------------------------------------------------------------------------------------------------------------------------------------------------------------------------------------------------------------------------------------------------------------------------------------------------------------------------------------------------------------------------------------------------------------------------------------------------------------+\n",
      "only showing top 5 rows\n",
      "\n"
     ]
    }
   ],
   "source": [
    "# Huấn luyện Word2Vec\n",
    "VECTOR_SIZE = 100\n",
    "print(\"Đang huấn luyện Word2Vec model trên train_df...\")\n",
    "word2vec_model = Word2Vec(sentences, vector_size=VECTOR_SIZE, window=5, min_count=1, workers=4)\n",
    "print(\"Huấn luyện model hoàn tất!\")\n",
    "\n",
    "# Hàm tạo embedding dưới dạng VectorUDT với scaling về [0, 1]\n",
    "def get_embedding_word2vec(text):\n",
    "    words = text.split()\n",
    "    word_vectors = [word2vec_model.wv[word] for word in words if word in word2vec_model.wv]\n",
    "    if word_vectors:\n",
    "        # Tính vector trung bình\n",
    "        vector = np.mean(word_vectors, axis=0)\n",
    "        # Chuẩn hóa về [0, 1] bằng min-max scaling\n",
    "        min_val = np.min(vector)\n",
    "        max_val = np.max(vector)\n",
    "        if max_val != min_val:  # Tránh chia cho 0\n",
    "            scaled_vector = (vector - min_val) / (max_val - min_val)\n",
    "        else:\n",
    "            scaled_vector = vector - min_val  # Nếu min = max, đưa về 0\n",
    "        return Vectors.dense(scaled_vector)\n",
    "    return Vectors.dense([0.0] * VECTOR_SIZE)\n",
    "\n",
    "# Đăng ký UDF với VectorUDT\n",
    "embedding_udf = udf(get_embedding_word2vec, VectorUDT())\n",
    "\n",
    "# Ghi đè cột \"embedding\" cho các DataFrame\n",
    "train_df = train_df.withColumn(\"embedding\", embedding_udf(col(\"clean_text\")))\n",
    "val_df = val_df.withColumn(\"embedding\", embedding_udf(col(\"clean_text\")))\n",
    "test_df = test_df.withColumn(\"embedding\", embedding_udf(col(\"clean_text\")))\n",
    "\n",
    "# Hiển thị schema và kết quả\n",
    "train_df.printSchema()\n",
    "train_df.show(5, truncate=False)"
   ]
  },
  {
   "cell_type": "code",
   "execution_count": 27,
   "metadata": {},
   "outputs": [],
   "source": [
    "# Chọn chỉ cột \"text\", \"embedding\" và \"label\" trước khi ghi\n",
    "train_df.select(\"text\", \"label\", \"embedding\").write.mode(\"overwrite\").parquet(path + \"data/processed/train/w2v.parquet\")\n",
    "test_df.select(\"text\", \"label\", \"embedding\").write.mode(\"overwrite\").parquet(path + \"data/processed/test/w2v.parquet\")\n",
    "val_df.select(\"text\", \"label\", \"embedding\").write.mode(\"overwrite\").parquet(path + \"data/processed/validation/w2v.parquet\")"
   ]
  },
  {
   "cell_type": "code",
   "execution_count": 28,
   "metadata": {},
   "outputs": [],
   "source": [
    "spark.stop()"
   ]
  }
 ],
 "metadata": {
  "kernelspec": {
   "display_name": "Python 3",
   "language": "python",
   "name": "python3"
  },
  "language_info": {
   "codemirror_mode": {
    "name": "ipython",
    "version": 3
   },
   "file_extension": ".py",
   "mimetype": "text/x-python",
   "name": "python",
   "nbconvert_exporter": "python",
   "pygments_lexer": "ipython3",
   "version": "3.10.11"
  }
 },
 "nbformat": 4,
 "nbformat_minor": 2
}
