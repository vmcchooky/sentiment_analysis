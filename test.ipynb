{
 "cells": [
  {
   "cell_type": "code",
   "execution_count": null,
   "metadata": {},
   "outputs": [],
   "source": [
    "import joblib\n",
    "\n",
    "# Tải lại mô hình và scaler\n",
    "model = joblib.load('sentiment_model.pkl')\n",
    "scaler = joblib.load('scaler.pkl')\n",
    "\n",
    "def predict_sentiment(text):\n",
    "    # Chuyển đổi câu hoặc đoạn văn thành embeddings (sử dụng phương pháp của bạn)\n",
    "    text_embedding = your_text_to_embedding_method(text)\n",
    "    \n",
    "    # Chuẩn hóa embedding\n",
    "    text_embedding = scaler.transform([text_embedding])\n",
    "    \n",
    "    # Dự đoán cảm xúc\n",
    "    prediction = model.predict(text_embedding)\n",
    "    \n",
    "    if isinstance(text, str):\n",
    "        # Nếu là câu, trả về cảm xúc\n",
    "        return 'sadness' if prediction[0] == 0 else 'joy'\n",
    "    else:\n",
    "        # Nếu là đoạn văn bản, trả về phần trăm cảm xúc\n",
    "        probabilities = model.predict_proba(text_embedding)[0]\n",
    "        return {'sadness': probabilities[0], 'joy': probabilities[1]}\n",
    "\n",
    "# Ví dụ sử dụng\n",
    "text = \"This is an example sentence.\"\n",
    "result = predict_sentiment(text)\n",
    "print(result)\n"
   ]
  }
 ],
 "metadata": {
  "kernelspec": {
   "display_name": "Python 3",
   "language": "python",
   "name": "python3"
  },
  "language_info": {
   "name": "python",
   "version": "3.10.11"
  }
 },
 "nbformat": 4,
 "nbformat_minor": 2
}
